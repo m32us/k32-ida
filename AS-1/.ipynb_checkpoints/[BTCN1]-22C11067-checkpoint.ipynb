{
 "cells": [
  {
   "cell_type": "code",
   "execution_count": 2,
   "metadata": {},
   "outputs": [],
   "source": [
    "import numpy as np\n",
    "import matplotlib.pyplot as plt\n",
    "%matplotlib inline"
   ]
  },
  {
   "cell_type": "code",
   "execution_count": 3,
   "metadata": {},
   "outputs": [],
   "source": [
    "def RMSE(y, ypred):\n",
    "    rmse = np.sqrt(np.mean((y-ypred)**2))\n",
    "    return rmse"
   ]
  },
  {
   "cell_type": "code",
   "execution_count": 4,
   "metadata": {},
   "outputs": [],
   "source": [
    "def r2(y, ypred):\n",
    "    SS_resid = sum((y - ypred)**2)\n",
    "    SS_tot = sum((y - np.mean(y))**2)\n",
    "    R2 = 1- (SS_resid / SS_tot)\n",
    "    return R2"
   ]
  },
  {
   "cell_type": "markdown",
   "metadata": {},
   "source": [
    "# K32 - Phân tích dữ liệu thông minh"
   ]
  },
  {
   "cell_type": "markdown",
   "metadata": {},
   "source": [
    "## Bài tập cá nhân 1"
   ]
  },
  {
   "cell_type": "markdown",
   "metadata": {},
   "source": [
    "Họ tên học viên: Lê Nhựt Nam\n",
    "\n",
    "MSHV: 22C11067"
   ]
  },
  {
   "cell_type": "markdown",
   "metadata": {},
   "source": [
    "## Đề bài"
   ]
  },
  {
   "cell_type": "markdown",
   "metadata": {},
   "source": [
    "Có số liệu thống kê về *lãi suất ngân hàng* ($X, \\%$ năm) và *tổng vốn đầu tư* ($Y$, tỉ đồng) trên địa bàn tỉnh A qua 10 năm liên tiếp như sau:\n",
    "\n",
    "| Năm  | 1  | 2  | 3  | 4  | 5  | 6  | 7  | 8  | 9  | 10 |\n",
    "|---|---|---|---|---|---|---|---|---|---|---|\n",
    "| $X$  | 7.0  | 6.5  | 6.5  | 6.0  | 6.0  | 6.0  | 5.5  | 5.5  | 5.0  | 4.5  |\n",
    "| $Y$  | 29  | 32  | 31  | 34  | 32  | 35  | 40  | 43  | 48  | 50  |\n",
    "\n",
    "1. Hãy lập mô hình hồi quy tuyến tính mô tả quan hệ giữa tổng vốn đầu tư và lãi suất ngân hàng (mô hình hồi quy đơn)? Nêu ý nghĩa của các hệ số hồi quy ước lượng được? Đánh giá mức độ phù hợp của mô hình?\n",
    "2. Kiểm định giả thiết \"Hệ số hồi quy của X trong hàm hồi quy tổng thể bằng 0 với mức ý\n",
    "nghĩa 2%\" và nêu ý nghĩa của kết quả?\n",
    "3. Dự báo tổng vốn đầu tư trung bình khi lãi suất là 4.8% năm với độ tin cậy 98%?"
   ]
  },
  {
   "cell_type": "code",
   "execution_count": 5,
   "metadata": {},
   "outputs": [],
   "source": [
    "# Chuẩn bị dữ liệu\n",
    "X_origin = np.array([7.0, 6.5, 6.5, 6.0, 6.0, 6.0, 5.5, 5.5, 5.0, 4.5])\n",
    "y_origin = np.array([29, 32, 31, 34, 32, 35, 40, 43, 48, 50])\n",
    "X = X_origin.reshape(-1,1) # 5x1 vector, N=5, D=1\n",
    "y = y_origin.reshape(-1,1) # 5x1 vector"
   ]
  },
  {
   "cell_type": "code",
   "execution_count": 6,
   "metadata": {},
   "outputs": [
    {
     "data": {
      "text/plain": [
       "Text(0, 0.5, '$y$')"
      ]
     },
     "execution_count": 6,
     "metadata": {},
     "output_type": "execute_result"
    },
    {
     "data": {
      "image/png": "[encoded data removed]",
      "text/plain": [
       "<Figure size 640x480 with 1 Axes>"
      ]
     },
     "metadata": {},
     "output_type": "display_data"
    }
   ],
   "source": [
    "plt.figure()\n",
    "plt.plot(X, y, '+', markersize=10)\n",
    "plt.xlabel(\"$x$\")\n",
    "plt.ylabel(\"$y$\")"
   ]
  },
  {
   "cell_type": "markdown",
   "metadata": {},
   "source": [
    "### Hãy lập mô hình hồi quy tuyến tính mô tả quan hệ giữa tổng vốn đầu tư và lãi suất ngân hàng (mô hình hồi quy đơn)? Nêu ý nghĩa của các hệ số hồi quy ước lượng được? Đánh giá mức độ phù hợp của mô hình?"
   ]
  },
  {
   "cell_type": "markdown",
   "metadata": {},
   "source": [
    "*Lời giải*\n",
    "\n",
    "Dựa trên hình ảnh trực quan hóa, ta có thể sử dụng mô hình hồi để quan hệ giữa tổng vốn đầu tư và lãi suất ngân hàng. Xem xét dạng của bài toán hồi quy tuyến tính như sau:\n",
    "\n",
    "$$\n",
    "y = \\boldsymbol x^T\\boldsymbol\\theta + \\epsilon\\,,\\quad \\epsilon \\sim \\mathcal N(0, \\sigma^2)\n",
    "$$\n",
    "trong đó $\\boldsymbol x\\in\\mathbb{R}^D$ là biến phụ thuộc (đầu vào) và $y\\in\\mathbb{R}$ là các quan sát bị nhiễu. Vector tham số $\\boldsymbol\\theta\\in\\mathbb{R}^D$ tham số hóa hàm tuyến tính này.\n",
    "\n",
    "Giả sử có tập huấn luyện $(\\boldsymbol x_n, y_n)$, $n=1,\\ldots, N$. Ta hình thức hóa các bộ dữ liệu đầu vào huấn luyện theo thứ tự $\\mathcal X = \\{\\boldsymbol x_1, \\ldots, \\boldsymbol x_N\\}$ và các mục tiêu huấn luyện tương ứng $\\mathcal Y = \\{y_1, \\ldots, y_N\\}$."
   ]
  },
  {
   "cell_type": "markdown",
   "metadata": {},
   "source": [
    "**Triển vọng cực đại**\n",
    "\n",
    "Phương pháp ước tính triển vọng cực đại của các tham số $\\boldsymbol\\theta$. Trong ước tính triển vọng cực đại, các tham số $\\boldsymbol\\theta^{\\mathrm{ML}}$ cực đại hóa likelihood\n",
    "\n",
    "$$\n",
    "p(\\mathcal Y | \\mathcal X, \\boldsymbol\\theta) = \\prod_{n=1}^N p(y_n | \\boldsymbol x_n, \\boldsymbol\\theta)\\,.\n",
    "$$\n",
    "\n",
    "Giải bài toán tối ưu, nghiệm thu được là:\n",
    "\n",
    "$$\n",
    "\\boldsymbol\\theta^{\\text{ML}} = (\\boldsymbol X^T\\boldsymbol X)^{-1}\\boldsymbol X^T\\boldsymbol y\\in\\mathbb{R}^D\\,,\n",
    "$$\n",
    "trong đó:\n",
    "$$\n",
    "\\boldsymbol X = [\\boldsymbol x_1, \\ldots, \\boldsymbol x_N]^T\\in\\mathbb{R}^{N\\times D}\\,,\\quad \\boldsymbol y = [y_1, \\ldots, y_N]^T \\in\\mathbb{R}^N\\,.\n",
    "$$"
   ]
  },
  {
   "cell_type": "code",
   "execution_count": 7,
   "metadata": {},
   "outputs": [],
   "source": [
    "def max_lik_estimate(X, y):\n",
    "    \"\"\"\n",
    "        X: N x D ma trận dữ liệu huấn luyện đầu vào\n",
    "        y: N x 1 vector của mục tiêu huấn luyện/ quan sát huấn luyện\n",
    "        trả về: tham số triển vọng cực đại (D x 1)\n",
    "    \"\"\"\n",
    "    theta_ml = np.linalg.inv(X.T @ X) @ X.T @ y\n",
    "    # theta_ml = np.linalg.pinv(X) @ y\n",
    "    \n",
    "    return theta_ml"
   ]
  },
  {
   "cell_type": "code",
   "execution_count": 8,
   "metadata": {},
   "outputs": [],
   "source": [
    "def predict_with_estimate(Xtest, theta):\n",
    "    \"\"\"\n",
    "        Xtest: K x D ma trận dữ liệu kiểm tra\n",
    "        theta: D x 1 vector tham số\n",
    "        trả về: kết quả dự đoán f(Xtest); K x 1 vector\n",
    "    \"\"\"\n",
    "    prediction = Xtest @ theta\n",
    "    \n",
    "    return prediction "
   ]
  },
  {
   "cell_type": "code",
   "execution_count": 9,
   "metadata": {},
   "outputs": [
    {
     "data": {
      "text/plain": [
       "Text(0, 0.5, '$y$')"
      ]
     },
     "execution_count": 9,
     "metadata": {},
     "output_type": "execute_result"
    },
    {
     "data": {
      "image/png": "[encoded data removed]",
      "text/plain": [
       "<Figure size 640x480 with 1 Axes>"
      ]
     },
     "metadata": {},
     "output_type": "display_data"
    }
   ],
   "source": [
    "# Tính toán ước lượng triển vọng cực đại\n",
    "theta_ml = max_lik_estimate(X,y)\n",
    "\n",
    "Xtest = np.linspace(0,8,40).reshape(-1,1)\n",
    "\n",
    "# dự đoán các giá trị hàm tại các điểm kiểm tra bằng bộ ước lượng triển vọng cực đại\n",
    "ml_prediction = predict_with_estimate(Xtest, theta_ml)\n",
    "\n",
    "# Trực quan\n",
    "plt.figure()\n",
    "plt.plot(X, y, '+', markersize=10)\n",
    "plt.plot(Xtest, ml_prediction)\n",
    "plt.xlabel(\"$x$\")\n",
    "plt.ylabel(\"$y$\")"
   ]
  },
  {
   "cell_type": "code",
   "execution_count": 10,
   "metadata": {},
   "outputs": [
    {
     "data": {
      "text/plain": [
       "11.38335212244427"
      ]
     },
     "execution_count": 10,
     "metadata": {},
     "output_type": "execute_result"
    }
   ],
   "source": [
    "# Đánh giá RMSE\n",
    "RMSE(y, X @ theta_ml)"
   ]
  },
  {
   "cell_type": "code",
   "execution_count": 11,
   "metadata": {},
   "outputs": [
    {
     "data": {
      "text/plain": [
       "array([-1.61040906])"
      ]
     },
     "execution_count": 11,
     "metadata": {},
     "output_type": "execute_result"
    }
   ],
   "source": [
    "# Đánh giá R2\n",
    "r2(y, X @ theta_ml)"
   ]
  },
  {
   "cell_type": "markdown",
   "metadata": {},
   "source": [
    "Nhận xét:\n",
    "\n",
    "- Đường hồi quy không tốt\n",
    "\n",
    "Cách giải quyết: thêm một bias vào mô hình để nó linh hoạt hơn.\n",
    "\n",
    "$$\n",
    "y = \\theta_0 + \\boldsymbol x^T \\boldsymbol\\theta_1 + \\epsilon\\,,\\quad \\epsilon\\sim\\mathcal N(0,\\sigma^2)\n",
    "$$\n",
    "\n",
    "Định nghĩa:\n",
    "\n",
    "$$\\boldsymbol x_{\\text{aug}} = \\begin{bmatrix}1\\\\\\boldsymbol x\\end{bmatrix}$$\n",
    "\n",
    "Ta viết lại phương trình mô hình hồi quy tuyến tính:\n",
    "\n",
    "$$\n",
    "y = \\boldsymbol x_{\\text{aug}}^T\\boldsymbol\\theta_{\\text{aug}} + \\epsilon\\,,\\quad \\boldsymbol\\theta_{\\text{aug}} = \\begin{bmatrix}\n",
    "\\theta_0\\\\\n",
    "\\boldsymbol\\theta_1\n",
    "\\end{bmatrix}\\,.\n",
    "$$"
   ]
  },
  {
   "cell_type": "code",
   "execution_count": 12,
   "metadata": {},
   "outputs": [
    {
     "data": {
      "text/plain": [
       "Text(0, 0.5, '$y$')"
      ]
     },
     "execution_count": 12,
     "metadata": {},
     "output_type": "execute_result"
    },
    {
     "data": {
      "image/png": "[encoded data removed]",
      "text/plain": [
       "<Figure size 640x480 with 1 Axes>"
      ]
     },
     "metadata": {},
     "output_type": "display_data"
    }
   ],
   "source": [
    "X_aug = np.hstack([np.ones((len(X),1)), X])\n",
    "\n",
    "# Tính toán ước lượng triển vọng cực đại\n",
    "theta_ml = max_lik_estimate(X_aug, y)\n",
    "\n",
    "Xtest = np.linspace(0,8,40).reshape(-1,1)\n",
    "Xtest_aug = np.hstack([np.ones((Xtest.shape[0],1)), Xtest])\n",
    "\n",
    "# dự đoán các giá trị hàm tại các điểm kiểm tra bằng bộ ước lượng triển vọng cực đại\n",
    "ml_prediction = predict_with_estimate(Xtest_aug, theta_ml)\n",
    "\n",
    "# Trực quan\n",
    "plt.figure()\n",
    "plt.plot(X, y, '+', markersize=10)\n",
    "plt.plot(Xtest, ml_prediction)\n",
    "plt.xlabel(\"$x$\")\n",
    "plt.ylabel(\"$y$\")"
   ]
  },
  {
   "cell_type": "code",
   "execution_count": 13,
   "metadata": {},
   "outputs": [
    {
     "data": {
      "text/plain": [
       "1.995018672215266"
      ]
     },
     "execution_count": 13,
     "metadata": {},
     "output_type": "execute_result"
    }
   ],
   "source": [
    "# Đánh giá RMSE\n",
    "RMSE(y, X_aug @ theta_ml)"
   ]
  },
  {
   "cell_type": "code",
   "execution_count": 14,
   "metadata": {},
   "outputs": [
    {
     "data": {
      "text/plain": [
       "array([0.91982072])"
      ]
     },
     "execution_count": 14,
     "metadata": {},
     "output_type": "execute_result"
    }
   ],
   "source": [
    "# Đánh giá R2\n",
    "r2(y, X_aug @ theta_ml)"
   ]
  },
  {
   "cell_type": "markdown",
   "metadata": {},
   "source": [
    "Nhận xét:\n",
    "\n",
    "- Mô hình cải thiện RMSE thấp hơn so với phiên bản trước.\n",
    "\n",
    "- Các hệ số của mô hình: hệ số góc $\\theta_0$ và hệ số bias $\\theta_1$ tạo thành vector tham số của mô hình"
   ]
  },
  {
   "cell_type": "markdown",
   "metadata": {},
   "source": [
    "**Phi tuyến hóa hồi quy tuyến tính**\n",
    "\n",
    "Ta hoàn toàn có thể khớp các hàm phi tuyến tính trong đầu vào $\\boldsymbol x$, miễn là các tham số $\\boldsymbol\\theta$ xuất hiện tuyến tính. Điều này có nghĩa là, chúng ta có thể học các hàm có dạng:\n",
    "\n",
    "$$\n",
    "f(\\boldsymbol x, \\boldsymbol\\theta) = \\sum_{k = 1}^K \\theta_k \\phi_k(\\boldsymbol x)\\,,\n",
    "$$\n",
    "trong đó các đặc trưng $\\phi_k(\\boldsymbol x)$ là các phép biến đổi (có thể phi tuyến tính) của các đầu vào $\\boldsymbol x$.\n",
    "\n",
    "Một trong những loại hàm thường hay sử dụng đó là hàm đa thức bậc $K$, ta viết\n",
    "\n",
    "$$\n",
    "\\sum_{k=0}^K \\theta_k x^k = \\boldsymbol \\phi(x)^T\\boldsymbol\\theta\\,,\\quad\n",
    "\\boldsymbol\\phi(x)= \n",
    "\\begin{bmatrix}\n",
    "x^0\\\\\n",
    "x^1\\\\\n",
    "\\vdots\\\\\n",
    "x^K\n",
    "\\end{bmatrix}\\in\\mathbb{R}^{K+1}\\,.\n",
    "$$\n",
    "Ở đây, $\\boldsymbol\\phi(x)$ là phép biến đổi đặc trưng phi tuyến tính của các đầu vào $x\\in\\mathbb{R}$.\n",
    "\n",
    "Từ đó, tập huấn luyện sau khi biến đổi có dạng:\n",
    "$$\n",
    "\\boldsymbol\\Phi = \\begin{bmatrix}\n",
    "\\boldsymbol\\phi(x_1) & \\boldsymbol\\phi(x_2) & \\cdots & \\boldsymbol\\phi(x_n)\n",
    "\\end{bmatrix}^T \\in\\mathbb{R}^{N\\times K+1}\n",
    "$$"
   ]
  },
  {
   "cell_type": "code",
   "execution_count": 15,
   "metadata": {},
   "outputs": [],
   "source": [
    "def poly_features(X, K):\n",
    "    # X: đầu vào có kích thước N x 1\n",
    "    # K: bậc của đa thức\n",
    "    # tính toán ma trận đặc trưng Phi (N x (K+1))\n",
    "    \n",
    "    X = X.flatten()\n",
    "    \n",
    "    #initialize Phi\n",
    "    Phi = np.zeros((X.shape[0], K+1))\n",
    "    \n",
    "    for k in range(K+1):\n",
    "        Phi[:,k] = X**k\n",
    "    return Phi"
   ]
  },
  {
   "cell_type": "markdown",
   "metadata": {},
   "source": [
    "Nghiệm tối ưu\n",
    "\n",
    "$$\n",
    "\\boldsymbol \\theta^\\text{ML} = (\\boldsymbol\\Phi^T\\boldsymbol\\Phi)^{-1}\\boldsymbol\\Phi^T\\boldsymbol y\n",
    "$$\n",
    "\n",
    "Nghiệm tối ưu (+tối ưu tính toán số học)\n",
    "\n",
    "$$\n",
    "\\boldsymbol \\theta^\\text{ML} = (\\boldsymbol\\Phi^T\\boldsymbol\\Phi + \\kappa\\boldsymbol I)^{-1}\\boldsymbol\\Phi^T\\boldsymbol y\n",
    "$$"
   ]
  },
  {
   "cell_type": "code",
   "execution_count": 16,
   "metadata": {},
   "outputs": [],
   "source": [
    "def nonlinear_features_maximum_likelihood(Phi, y):\n",
    "    # Phi: ma trận đặc trưng cho dữ liệu đầu vào. Kích thước N x D\n",
    "    # y: các mục tiêu huấn luyện. Kích thước N x 1\n",
    "    # trả về: bộ ước lượng triển vọng cực đại theta_ml. Kích thước D x 1\n",
    "    \n",
    "    kappa = 1e-08 # 'jitter' term; nhằm mục tiêu tối ưu tính toán số học\n",
    "    \n",
    "    # ước lượng triển vọng cực đại\n",
    "    theta_ml = np.linalg.inv(Phi.T @ Phi + kappa*np.eye(Phi.shape[1])) @ Phi.T @ y\n",
    "    \n",
    "    return theta_ml"
   ]
  },
  {
   "cell_type": "code",
   "execution_count": 17,
   "metadata": {},
   "outputs": [
    {
     "data": {
      "text/plain": [
       "Text(0, 0.5, '$y$')"
      ]
     },
     "execution_count": 17,
     "metadata": {},
     "output_type": "execute_result"
    },
    {
     "data": {
      "image/png": "[encoded data removed]",
      "text/plain": [
       "<Figure size 640x480 with 1 Axes>"
      ]
     },
     "metadata": {},
     "output_type": "display_data"
    }
   ],
   "source": [
    "K = 5 # Định nghĩa bậc đa thức mà ta muốn khớp\n",
    "# Ở đây, em đã chạy tay và chọn bậc K = 5, ta có thể code vòng lặp để dò ra số K này\n",
    "\n",
    "Phi = poly_features(X, K) # N x (K+1) ma trận đặc trưng\n",
    "\n",
    "poly_theta_ml = nonlinear_features_maximum_likelihood(Phi, y) # bộ ước lượng triển vọng cực đại\n",
    "\n",
    "# dữ liệu test\n",
    "Xtest = np.linspace(4,8,10).reshape(-1,1)\n",
    "\n",
    "# ma trận đặc trưng cho dữ liệu test\n",
    "Phi_test = poly_features(Xtest, K)\n",
    "\n",
    "y_pred = Phi_test @ poly_theta_ml # predicted y-values\n",
    "\n",
    "plt.figure()\n",
    "plt.plot(X, y, '+')\n",
    "plt.plot(Xtest, y_pred)\n",
    "plt.xlabel(\"$x$\")\n",
    "plt.ylabel(\"$y$\")"
   ]
  },
  {
   "cell_type": "code",
   "execution_count": 18,
   "metadata": {},
   "outputs": [
    {
     "data": {
      "text/plain": [
       "1.0451327441775917"
      ]
     },
     "execution_count": 18,
     "metadata": {},
     "output_type": "execute_result"
    }
   ],
   "source": [
    "# Đánh giá RMSE\n",
    "RMSE(y, poly_features(X, K) @ poly_theta_ml)"
   ]
  },
  {
   "cell_type": "markdown",
   "metadata": {},
   "source": [
    "**Giải thích hệ số của mô hình hồi quy tuyến tính**"
   ]
  },
  {
   "cell_type": "code",
   "execution_count": 19,
   "metadata": {},
   "outputs": [
    {
     "data": {
      "text/plain": [
       "(array([93.1641791]), array([-9.53233831]))"
      ]
     },
     "execution_count": 19,
     "metadata": {},
     "output_type": "execute_result"
    }
   ],
   "source": [
    "beta_0, beta_1 = theta_ml[0], theta_ml[1]\n",
    "beta_0, beta_1"
   ]
  },
  {
   "cell_type": "markdown",
   "metadata": {},
   "source": [
    "Hệ số ```beta_1``` trong mô hình hồi quy thể hiện thay đổi trong *lãi suất ngân hàng* cho một đơn vị thay đổi trong *tổng vốn đầu tư*. Hệ số ```beta_0``` là dự đoán *tổng vốn đầu tư* nếu *lãi suất ngân hàng* bằng 0"
   ]
  },
  {
   "cell_type": "code",
   "execution_count": 20,
   "metadata": {},
   "outputs": [
    {
     "name": "stdout",
     "output_type": "stream",
     "text": [
      "[-0.95907284]\n",
      "-0.9590728434941582\n"
     ]
    }
   ],
   "source": [
    "from scipy.stats import pearsonr\n",
    "\n",
    "\n",
    "covariance = beta_1 * np.var(X_origin) \n",
    "cor = covariance / (np.std(X_origin) * np.std(y_origin))\n",
    "print(cor)\n",
    "print(pearsonr(X_origin, y_origin)[0])"
   ]
  },
  {
   "cell_type": "markdown",
   "metadata": {},
   "source": [
    "**Cực đại xác suất hậu nghiệm**\n",
    "\n",
    "Thay vì cực đại triển vọng, chúng ta có thể xem xét việc cực đại phân phối hậu nghiệm trên các tham số $\\boldsymbol\\theta$, \n",
    "\n",
    "$$\n",
    "p(\\boldsymbol\\theta|\\mathcal X, \\mathcal Y) = \\frac{\\overbrace{p(\\mathcal Y|\\mathcal X, \\boldsymbol\\theta)}^{\\text{likelihood}}\\overbrace{p(\\boldsymbol\\theta)}^{\\text{prior}}}{\\underbrace{p(\\mathcal Y|\\mathcal X)}_{\\text{evidence}}}\n",
    "$$\n",
    "\n",
    "Mục đích của tham số tiên nghiệm $p(\\boldsymbol\\theta)$ là ngăn chặn các tham số đạt được các giá trị cực trị, một dấu hiệu cho thấy mô hình quá khớp (overfitting). Tham số tiên nghiệm cho phép chỉ định phạm vi giá trị tham số \"có khả năng suy diễn\". Thông thường là phân phối tiên nghiệm Gaussian $\\mathcal N(\\boldsymbol 0, \\alpha^2\\boldsymbol I)$, có tâm tại $\\boldsymbol 0$ với phương sai $\\alpha^2$ dọc theo mỗi chiều tham số.\n",
    "\n",
    "Nghiệm của bài toán tối ưu xác suất hậu nghiệm trên là:\n",
    "\n",
    "$$\n",
    "\\boldsymbol\\theta^{\\text{MAP}} = (\\boldsymbol\\Phi^T\\boldsymbol\\Phi + \\frac{\\sigma^2}{\\alpha^2}\\boldsymbol I)^{-1}\\boldsymbol\\Phi^T\\boldsymbol y\n",
    "$$\n",
    "trong đó $\\sigma^2$ là phương sai của nhiễu."
   ]
  },
  {
   "cell_type": "code",
   "execution_count": 23,
   "metadata": {},
   "outputs": [],
   "source": [
    "def map_estimate_poly(X, y, sigma, alpha):\n",
    "    # X: đầu vào có kích thước N x D\n",
    "    # y: các mục tiêu huấn luyện. Kích thước D x 1\n",
    "    # sigma: standard deviation của nhiễu\n",
    "    # alpha: standard deviation phân phối tiên nghiệm trên các tham số\n",
    "    # trả về: bộ ước lượng cực đại xác suất hậu nghiệm theta_map. Kích thước D x 1\n",
    "    \n",
    "    theta_map = np.linalg.inv(X.T @ X + (sigma/alpha)**2 * np.eye(X.shape[1])) @ X.T @ y\n",
    "    \n",
    "    return theta_map"
   ]
  },
  {
   "cell_type": "code",
   "execution_count": 67,
   "metadata": {},
   "outputs": [],
   "source": [
    "sigma = 1.0 # standard deviation của nhiễu\n",
    "alpha = 100 # standard deviation phân phối tiên nghiệm trên các tham số\n",
    "\n",
    "#cực đại xác suất hậu nghiệm\n",
    "theta_map = map_estimate_poly(X_aug, y, sigma, alpha)\n",
    "\n",
    "# bộ ước lượng triển vọng cực đại\n",
    "theta_ml = max_lik_estimate(X_aug, y)"
   ]
  },
  {
   "cell_type": "code",
   "execution_count": 68,
   "metadata": {},
   "outputs": [
    {
     "data": {
      "text/plain": [
       "array([[93.09873526],\n",
       "       [-9.52131047]])"
      ]
     },
     "execution_count": 68,
     "metadata": {},
     "output_type": "execute_result"
    }
   ],
   "source": [
    "theta_map"
   ]
  },
  {
   "cell_type": "code",
   "execution_count": 50,
   "metadata": {},
   "outputs": [
    {
     "data": {
      "text/plain": [
       "array([[93.1641791 ],\n",
       "       [-9.53233831]])"
      ]
     },
     "execution_count": 50,
     "metadata": {},
     "output_type": "execute_result"
    }
   ],
   "source": [
    "theta_ml"
   ]
  },
  {
   "cell_type": "code",
   "execution_count": 69,
   "metadata": {},
   "outputs": [
    {
     "data": {
      "text/plain": [
       "<matplotlib.legend.Legend at 0x7f60af299ac0>"
      ]
     },
     "execution_count": 69,
     "metadata": {},
     "output_type": "execute_result"
    },
    {
     "data": {
      "image/png": "[encoded data removed]",
      "text/plain": [
       "<Figure size 640x480 with 1 Axes>"
      ]
     },
     "metadata": {},
     "output_type": "display_data"
    }
   ],
   "source": [
    "Xtest = np.linspace(4,8,10).reshape(-1,1)\n",
    "Xtest_aug = np.hstack([np.ones((Xtest.shape[0],1)), Xtest])\n",
    "\n",
    "map_prediction = Xtest_aug @ theta_map\n",
    "\n",
    "ml_prediction = Xtest_aug @ theta_ml\n",
    "\n",
    "plt.figure()\n",
    "plt.plot(X, y, '+')\n",
    "plt.plot(Xtest, map_prediction)\n",
    "plt.plot(Xtest, ml_prediction)\n",
    "\n",
    "plt.legend([\"data\", \"map prediction\", \"maximum likelihood\"])"
   ]
  },
  {
   "cell_type": "markdown",
   "metadata": {},
   "source": [
    "**Hồi quy tuyến tính Bayesian**\n",
    "\n",
    "\\begin{align}\n",
    "&\\text{Maximum likelihood: }E[f(\\boldsymbol X_{\\text{test}})] = \\boldsymbol X_{\\text{test}}\\boldsymbol \\theta_{ml}\\\\\n",
    "&\\text{Maximum a posteriori: } E[f(\\boldsymbol X_{\\text{test}})] = \\boldsymbol X_{\\text{test}}\\boldsymbol \\theta_{map}\\\\\n",
    "&\\text{Bayesian: } p(f(\\boldsymbol X_{\\text{test}})) = \\mathcal N(f(\\boldsymbol X_{\\text{test}}) \\,|\\, \\boldsymbol X_{\\text{test}} \\boldsymbol\\theta_{\\text{mean}},\\, \\boldsymbol X_{\\text{test}} \\boldsymbol\\theta_{\\text{var}}  \\boldsymbol X_{\\text{test}}^\\top)\n",
    "\\end{align}"
   ]
  },
  {
   "cell_type": "code",
   "execution_count": 124,
   "metadata": {},
   "outputs": [],
   "source": [
    "prior_var, noise_var = 100, 1\n",
    "\n",
    "# Tính toán bộ ước lượng triển vọng cực đại\n",
    "theta_ml = np.linalg.inv(X_aug.T @ X_aug) @ X_aug.T @ y\n",
    "\n",
    "\n",
    "# Tính toán bộ ước lượng cực đại xác suất hậu nghiệm\n",
    "theta_map = np.linalg.inv(X_aug.T @ X_aug + (noise_var/prior_var)**2 * np.eye(X_aug.shape[1])) @ X_aug.T @ y\n",
    "\n",
    "# Tham số hậu nghiệm\n",
    "iSN = (2/prior_var + (X_aug.T @ X_aug)/noise_var) # posterior precision - độ chính xác hậu nghiệm \n",
    "theta_var = np.linalg.pinv(noise_var*2/prior_var + (X_aug.T @ X_aug))*noise_var  # posterior covariance - hiệp phương sai hậu nghiệm\n",
    "theta_mean= np.linalg.solve(iSN, (X_aug.T @ y)/noise_var) # posterior mean - trung bình hậu nghiệm\n",
    "\n",
    "\n",
    "# các dự đoán ước lượng triển vọng cực đại (just the mean)\n",
    "m_mle_test = Xtest_aug @ theta_ml\n",
    "\n",
    "# các dự đoán ước lượng cực đại xác suất hậu nghiệm (just the mean)\n",
    "m_map_test = Xtest_aug @ theta_map\n",
    "\n",
    "# phân phối dự đoán (Bayesian linear regression)\n",
    "# mean prediction, trung bình\n",
    "mean_blr = Xtest_aug @ theta_mean\n",
    "# variance prediction, phương sai\n",
    "cov_blr =  Xtest_aug @ theta_var @ Xtest_aug.T"
   ]
  },
  {
   "cell_type": "code",
   "execution_count": 125,
   "metadata": {},
   "outputs": [
    {
     "data": {
      "text/plain": [
       "Text(0, 0.5, '$y$')"
      ]
     },
     "execution_count": 125,
     "metadata": {},
     "output_type": "execute_result"
    },
    {
     "data": {
      "image/png": "[encoded data removed]",
      "text/plain": [
       "<Figure size 640x480 with 1 Axes>"
      ]
     },
     "metadata": {},
     "output_type": "display_data"
    }
   ],
   "source": [
    "plt.figure()\n",
    "plt.plot(X, y, \"+\")\n",
    "plt.plot(Xtest, m_mle_test)\n",
    "plt.plot(Xtest, m_map_test)\n",
    "var_blr = np.diag(cov_blr)\n",
    "\n",
    "conf_bound1 = np.sqrt(var_blr).flatten()\n",
    "conf_bound2 = 2.0*np.sqrt(var_blr).flatten()\n",
    "conf_bound3 = 2.0*np.sqrt(var_blr + sigma).flatten()\n",
    "\n",
    "plt.fill_between(Xtest.flatten(), mean_blr.flatten() + conf_bound1, \n",
    "                 mean_blr.flatten() - conf_bound1, alpha = 0.1, color=\"k\")\n",
    "plt.fill_between(Xtest.flatten(), mean_blr.flatten() + conf_bound2, \n",
    "                 mean_blr.flatten() - conf_bound2, alpha = 0.1, color=\"k\")\n",
    "plt.fill_between(Xtest.flatten(), mean_blr.flatten() + conf_bound3, \n",
    "                 mean_blr.flatten() - conf_bound3, alpha = 0.1, color=\"k\")\n",
    "\n",
    "plt.legend([\"Data\", \"MLE\", \"MAP\", \"BLR\"])\n",
    "plt.xlabel('$x$')\n",
    "plt.ylabel('$y$')"
   ]
  },
  {
   "cell_type": "markdown",
   "metadata": {},
   "source": [
    "### Kiểm định giả thiết \"Hệ số hồi quy của X trong hàm hồi quy tổng thể bằng 0 với mức ý nghĩa 2%\" và nêu ý nghĩa của kết quả?"
   ]
  },
  {
   "cell_type": "markdown",
   "metadata": {},
   "source": [
    "#### Sử dụng statmodels"
   ]
  },
  {
   "cell_type": "code",
   "execution_count": 127,
   "metadata": {},
   "outputs": [],
   "source": [
    "import statsmodels.api as sm\n",
    "results = sm.OLS(y, X_aug).fit()\n",
    "r = np.zeros_like(results.params)"
   ]
  },
  {
   "cell_type": "code",
   "execution_count": 128,
   "metadata": {},
   "outputs": [
    {
     "name": "stderr",
     "output_type": "stream",
     "text": [
      "/home/lnhutnam/anaconda3/envs/yolo/lib/python3.9/site-packages/scipy/stats/_stats_py.py:1769: UserWarning: kurtosistest only valid for n>=20 ... continuing anyway, n=10\n",
      "  warnings.warn(\"kurtosistest only valid for n>=20 ... continuing \"\n"
     ]
    },
    {
     "data": {
      "text/html": [
       "<table class=\"simpletable\">\n",
       "<caption>OLS Regression Results</caption>\n",
       "<tr>\n",
       "  <th>Dep. Variable:</th>            <td>y</td>        <th>  R-squared:         </th> <td>   0.920</td>\n",
       "</tr>\n",
       "<tr>\n",
       "  <th>Model:</th>                   <td>OLS</td>       <th>  Adj. R-squared:    </th> <td>   0.910</td>\n",
       "</tr>\n",
       "<tr>\n",
       "  <th>Method:</th>             <td>Least Squares</td>  <th>  F-statistic:       </th> <td>   91.78</td>\n",
       "</tr>\n",
       "<tr>\n",
       "  <th>Date:</th>             <td>Wed, 24 May 2023</td> <th>  Prob (F-statistic):</th> <td>1.17e-05</td>\n",
       "</tr>\n",
       "<tr>\n",
       "  <th>Time:</th>                 <td>00:16:34</td>     <th>  Log-Likelihood:    </th> <td> -21.096</td>\n",
       "</tr>\n",
       "<tr>\n",
       "  <th>No. Observations:</th>      <td>    10</td>      <th>  AIC:               </th> <td>   46.19</td>\n",
       "</tr>\n",
       "<tr>\n",
       "  <th>Df Residuals:</th>          <td>     8</td>      <th>  BIC:               </th> <td>   46.80</td>\n",
       "</tr>\n",
       "<tr>\n",
       "  <th>Df Model:</th>              <td>     1</td>      <th>                     </th>     <td> </td>   \n",
       "</tr>\n",
       "<tr>\n",
       "  <th>Covariance Type:</th>      <td>nonrobust</td>    <th>                     </th>     <td> </td>   \n",
       "</tr>\n",
       "</table>\n",
       "<table class=\"simpletable\">\n",
       "<tr>\n",
       "    <td></td>       <th>coef</th>     <th>std err</th>      <th>t</th>      <th>P>|t|</th>  <th>[0.025</th>    <th>0.975]</th>  \n",
       "</tr>\n",
       "<tr>\n",
       "  <th>const</th> <td>   93.1642</td> <td>    5.863</td> <td>   15.889</td> <td> 0.000</td> <td>   79.643</td> <td>  106.685</td>\n",
       "</tr>\n",
       "<tr>\n",
       "  <th>x1</th>    <td>   -9.5323</td> <td>    0.995</td> <td>   -9.580</td> <td> 0.000</td> <td>  -11.827</td> <td>   -7.238</td>\n",
       "</tr>\n",
       "</table>\n",
       "<table class=\"simpletable\">\n",
       "<tr>\n",
       "  <th>Omnibus:</th>       <td> 0.372</td> <th>  Durbin-Watson:     </th> <td>   0.930</td>\n",
       "</tr>\n",
       "<tr>\n",
       "  <th>Prob(Omnibus):</th> <td> 0.830</td> <th>  Jarque-Bera (JB):  </th> <td>   0.366</td>\n",
       "</tr>\n",
       "<tr>\n",
       "  <th>Skew:</th>          <td>-0.341</td> <th>  Prob(JB):          </th> <td>   0.833</td>\n",
       "</tr>\n",
       "<tr>\n",
       "  <th>Kurtosis:</th>      <td> 2.357</td> <th>  Cond. No.          </th> <td>    50.4</td>\n",
       "</tr>\n",
       "</table><br/><br/>Notes:<br/>[1] Standard Errors assume that the covariance matrix of the errors is correctly specified."
      ],
      "text/plain": [
       "<class 'statsmodels.iolib.summary.Summary'>\n",
       "\"\"\"\n",
       "                            OLS Regression Results                            \n",
       "==============================================================================\n",
       "Dep. Variable:                      y   R-squared:                       0.920\n",
       "Model:                            OLS   Adj. R-squared:                  0.910\n",
       "Method:                 Least Squares   F-statistic:                     91.78\n",
       "Date:                Wed, 24 May 2023   Prob (F-statistic):           1.17e-05\n",
       "Time:                        00:16:34   Log-Likelihood:                -21.096\n",
       "No. Observations:                  10   AIC:                             46.19\n",
       "Df Residuals:                       8   BIC:                             46.80\n",
       "Df Model:                           1                                         \n",
       "Covariance Type:            nonrobust                                         \n",
       "==============================================================================\n",
       "                 coef    std err          t      P>|t|      [0.025      0.975]\n",
       "------------------------------------------------------------------------------\n",
       "const         93.1642      5.863     15.889      0.000      79.643     106.685\n",
       "x1            -9.5323      0.995     -9.580      0.000     -11.827      -7.238\n",
       "==============================================================================\n",
       "Omnibus:                        0.372   Durbin-Watson:                   0.930\n",
       "Prob(Omnibus):                  0.830   Jarque-Bera (JB):                0.366\n",
       "Skew:                          -0.341   Prob(JB):                        0.833\n",
       "Kurtosis:                       2.357   Cond. No.                         50.4\n",
       "==============================================================================\n",
       "\n",
       "Notes:\n",
       "[1] Standard Errors assume that the covariance matrix of the errors is correctly specified.\n",
       "\"\"\""
      ]
     },
     "execution_count": 128,
     "metadata": {},
     "output_type": "execute_result"
    }
   ],
   "source": [
    "results.summary()"
   ]
  },
  {
   "cell_type": "code",
   "execution_count": 129,
   "metadata": {},
   "outputs": [
    {
     "data": {
      "text/plain": [
       "array([93.1641791 , -9.53233831])"
      ]
     },
     "execution_count": 129,
     "metadata": {},
     "output_type": "execute_result"
    }
   ],
   "source": [
    "results.params"
   ]
  },
  {
   "cell_type": "markdown",
   "metadata": {},
   "source": [
    "Với một hệ số hồi quy tuyến tính đơn, ta muốn kiểm tra liệu có tồn tại một mối quan hệ nào giữa biến phụ thuộc $y$ (tổng vốn đầu tư) và biến độc lập $x_i$ (lãi suất ngân hàng) hay không\n",
    "- Không có quan hệ: Không tồn tại quan hệ giữa biến phụ thuộc $y$ (tổng vốn đầu tư) và biến độc lập $x_i$ (lãi suất ngân hàng). Trong tình huống này, hệ số hồi quy $\\beta_i$ bằng không. Điều này cho ta giả thiết rỗng/ không (null hypothesis) trong kiểm định hệ số hồi quy:\n",
    "\n",
    "$$\n",
    "H_0: \\beta_i = 0\n",
    "$$\n",
    "\n",
    "- Có tồn tại quan hệ: Có tồn tại quan hệ giữa biến phụ thuộc $y$ (tổng vốn đầu tư) và biến độc lập $x_i$ (lãi suất ngân hàng). Trong tình huống này, hệ số hồi quy $\\beta_i$ không bằng không. Điều này cho ta giả thiết thay thế (alternative hypothesis) trong kiểm định hệ số hồi quy:\n",
    "\n",
    "$$\n",
    "H_1: \\beta_i \\ne 0\n",
    "$$\n",
    "\n",
    "Lưu ý: Ở ta không phải lo lắng về hệ số hồi quy $\\beta_i$ có giá trị âm hay dương, chỉ cần nó khác không, nó cho ta ý nghĩa về mối quan hệ giữa biến phụ thuộc và độc lập."
   ]
  },
  {
   "cell_type": "code",
   "execution_count": 130,
   "metadata": {},
   "outputs": [
    {
     "name": "stdout",
     "output_type": "stream",
     "text": [
      "The regression coefficient of X is statistically significant.\n"
     ]
    }
   ],
   "source": [
    "# Tính toán giá trị p-value cho hệ số của X\n",
    "p_value = results.pvalues[1]\n",
    "\n",
    "# Đặt mức ý nghĩa 2%\n",
    "alpha = 0.02\n",
    "\n",
    "# So sánh p-value với mức ý nghĩa\n",
    "if p_value > alpha:\n",
    "    print(\"The regression coefficient of X is not statistically significant.\")\n",
    "else:\n",
    "    print(\"The regression coefficient of X is statistically significant.\")"
   ]
  },
  {
   "cell_type": "markdown",
   "metadata": {},
   "source": [
    "#### Không sử dụng statmodels"
   ]
  },
  {
   "cell_type": "code",
   "execution_count": 131,
   "metadata": {},
   "outputs": [],
   "source": [
    "# Tính SSE\n",
    "sse = np.sum((X_aug @ theta_ml - y) ** 2, axis=0) / float(X_aug.shape[0] - X_aug.shape[1])"
   ]
  },
  {
   "cell_type": "code",
   "execution_count": 132,
   "metadata": {},
   "outputs": [],
   "source": [
    "# Tính SE\n",
    "se = np.array([\n",
    "            np.sqrt(np.diagonal(sse[i] * np.linalg.inv(np.dot(X_aug.T, X_aug))))\n",
    "                                                    for i in range(sse.shape[0])\n",
    "                    ])"
   ]
  },
  {
   "cell_type": "code",
   "execution_count": 133,
   "metadata": {},
   "outputs": [],
   "source": [
    "# Tính t-statistics\n",
    "t = (theta_ml[0] - theta_ml[1]) / se"
   ]
  },
  {
   "cell_type": "code",
   "execution_count": 134,
   "metadata": {},
   "outputs": [],
   "source": [
    "# Tính p-value\n",
    "from scipy import stats\n",
    "\n",
    "p_val = 2 * (1 - stats.t.cdf(np.abs(t), y.shape[0] - X_aug.shape[1]))"
   ]
  },
  {
   "cell_type": "code",
   "execution_count": 135,
   "metadata": {},
   "outputs": [
    {
     "name": "stdout",
     "output_type": "stream",
     "text": [
      "The regression coefficient of X is statistically significant.\n"
     ]
    }
   ],
   "source": [
    "# So sánh p-value với mức ý nghĩa\n",
    "if p_value > alpha:\n",
    "    print(\"The regression coefficient of X is not statistically significant.\")\n",
    "else:\n",
    "    print(\"The regression coefficient of X is statistically significant.\")"
   ]
  },
  {
   "cell_type": "markdown",
   "metadata": {},
   "source": [
    "### Dự báo tổng vốn đầu tư trung bình khi lãi suất là 4.8% năm với độ tin cậy 98%?"
   ]
  },
  {
   "cell_type": "code",
   "execution_count": 138,
   "metadata": {},
   "outputs": [
    {
     "name": "stdout",
     "output_type": "stream",
     "text": [
      "Coefficients of the linear model: beta_0 = 93.16417910447765, beta_1 = -9.532338308457724\n",
      "==========================================================\n",
      "Predicted value for input 4.8: 47.408955223880575\n",
      "Standard error of the mean estimate:  0.1154163693813067\n",
      "Standard error of the prediction:  1.1154163693813068\n",
      "==========================================================\n",
      "Upper bound mean estimate at 98% confidence:  [55.53101256]\n",
      "Lower bound mean estimate at 98% confidence:  [39.28689789]\n",
      "==========================================================\n",
      "Upper bound prediction at 98% confidence:  [72.65834308]\n",
      "Lower bound prediction at 98% confidence:  [22.15956737]\n",
      "==========================================================\n",
      "Upper bound Beta 1 at 98% confidence:  [-7.37349708]\n",
      "Lower bound Beta 1 at 98% confidence:  [-11.69117953]\n"
     ]
    }
   ],
   "source": [
    "# Khớp mô hình hồi quy tuyến tính\n",
    "results = sm.OLS(y, X_aug).fit()\n",
    "\n",
    "# Các hệ số của mô hình hồi quy tuyến tính, beta0 và beta1\n",
    "b0 = results.params[0]\n",
    "b1 = results.params[1]\n",
    "print(\"Coefficients of the linear model: beta_0 = {}, beta_1 = {}\".format(b0, b1))\n",
    "\n",
    "# Tính toán các giá trị khớp của y\n",
    "y_fitted = results.get_prediction(X_aug).predicted_mean\n",
    "\n",
    "# Giá trị lãi suất đầu vào\n",
    "inp_val = 4.8\n",
    "\n",
    "print(\"==========================================================\")\n",
    "# Dự đoán tổng vốn đầu tư với giá lãi suất đầu vào\n",
    "y_pred = b1 * inp_val + b0\n",
    "print(\"Predicted value for input {}: {}\".format(inp_val, y_pred))\n",
    "\n",
    "# Tính MSE\n",
    "mse = np.mean((y-y_fitted)**2)\n",
    "\n",
    "# Tính t-statistics với độ tin cậy 98%\n",
    "t_val = np.array([stats.t.ppf(0.98, X_aug.shape[0] - 2)])\n",
    "\n",
    "# Độ lỗi chuẩn của trung bình ước lượng\n",
    "err_mean_estimate = ((1 / X_aug.shape[0]) + (inp_val - np.mean(X_aug))**2 / (np.sum((X_aug - np.mean(X_aug))**2)))\n",
    "print(\"Standard error of the mean estimate: \", err_mean_estimate)\n",
    "\n",
    "# Độ lỗi chuẩn của dự đoán\n",
    "err_pred = (1 + (1 / X_aug.shape[0]) + (inp_val - np.mean(X_aug))**2 / (np.sum((X_aug - np.mean(X_aug))**2)))\n",
    "print(\"Standard error of the prediction: \", err_pred)\n",
    "\n",
    "print(\"==========================================================\")\n",
    "# Giới hạn chặn trên và chặn dưới cho ước lượng trung bình ở độ tin cậy 98%\n",
    "mean_est_upper = y_pred + t_val * np.sqrt(mse * err_mean_estimate)\n",
    "mean_est_lower = y_pred - t_val * np.sqrt(mse * err_mean_estimate)\n",
    "print(\"Upper bound mean estimate at 98% confidence: \", mean_est_upper)\n",
    "print(\"Lower bound mean estimate at 98% confidence: \", mean_est_lower)\n",
    "\n",
    "print(\"==========================================================\")\n",
    "# Giới hạn chặn trên và chặn dưới cho dự đoán ở độ tin cậy 98%\n",
    "pred_upper = y_pred + t_val * np.sqrt(mse * err_pred)\n",
    "pred_lower = y_pred - t_val * np.sqrt(mse * err_pred)\n",
    "print(\"Upper bound prediction at 98% confidence: \", pred_upper)\n",
    "print(\"Lower bound prediction at 98% confidence: \", pred_lower)\n",
    "\n",
    "print(\"==========================================================\")\n",
    "# Giới hạn chặn trên và chặn dưới cho hệ số hồi quy của X ở độ tin cậy 98%\n",
    "b1_upper = b1 + t_val * np.sqrt(mse) / np.sqrt(np.sum((X_aug - np.mean(X_aug))**2))\n",
    "b1_lower = b1 - t_val * np.sqrt(mse) / np.sqrt(np.sum((X_aug - np.mean(X_aug))**2))\n",
    "print(\"Upper bound Beta 1 at 98% confidence: \", b1_upper)\n",
    "print(\"Lower bound Beta 1 at 98% confidence: \", b1_lower)"
   ]
  },
  {
   "cell_type": "markdown",
   "metadata": {},
   "source": [
    "Vậy giá trị dự báo tổng vốn đầu tư trung bình khi lãi suất là 4.8% năm với độ tin cậy 98% là 47.41, với chặn trên trung bình ước lượng 55.53 và chặn dưới 39.27"
   ]
  }
 ],
 "metadata": {
  "kernelspec": {
   "display_name": "Python 3 (ipykernel)",
   "language": "python",
   "name": "python3"
  },
  "language_info": {
   "codemirror_mode": {
    "name": "ipython",
    "version": 3
   },
   "file_extension": ".py",
   "mimetype": "text/x-python",
   "name": "python",
   "nbconvert_exporter": "python",
   "pygments_lexer": "ipython3",
   "version": "3.9.13"
  },
  "title": "BTCN-01 Phân tích dữ liệu thông minh"
 },
 "nbformat": 4,
 "nbformat_minor": 2
}
