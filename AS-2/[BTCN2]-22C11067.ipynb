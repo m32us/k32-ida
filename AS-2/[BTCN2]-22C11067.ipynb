{
 "cells": [
  {
   "cell_type": "code",
   "execution_count": 1,
   "metadata": {},
   "outputs": [],
   "source": [
    "import numpy as np\n",
    "import pandas as pd\n",
    "from scipy import stats"
   ]
  },
  {
   "cell_type": "markdown",
   "metadata": {},
   "source": [
    "# K32 - Phân tích dữ liệu thông minh"
   ]
  },
  {
   "cell_type": "markdown",
   "metadata": {},
   "source": [
    "## Bài tập cá nhân 2"
   ]
  },
  {
   "cell_type": "markdown",
   "metadata": {},
   "source": [
    "Họ tên học viên: Lê Nhựt Nam\n",
    "\n",
    "MSHV: 22C11067"
   ]
  },
  {
   "cell_type": "markdown",
   "metadata": {},
   "source": [
    "## Đề bài"
   ]
  },
  {
   "cell_type": "markdown",
   "metadata": {},
   "source": [
    "Mô hình hồi quy giá nhà (PRICE tính bằng nghìn đô) phụ thuộc vào các biến SQFT (diện tích nhà) BEDRMS (số phòng ngủ) BATHS (số phòng tắm).\n",
    "\n",
    "| $i$  |  PRICE | SQFT  | BEDRMS  | BATHS  |\n",
    "|---|---|---|---|---|\n",
    "| 1  | 199.9  | 1065  | 3  | 1.75  |\n",
    "| 2  | 228  | 1254  | 3  | 2  |\n",
    "| 3  | 235  | 1300  | 3  | 2  |\n",
    "| 4  | 285  | 1577  | 4  | 2.5  |\n",
    "| 5  | 239  | 1600  | 3  | 2  |\n",
    "| 6  | 293  | 1750  | 4  | 2  |\n",
    "| 7  | 285  | 1800  | 4  | 2.75  |\n",
    "| 8  | 365  | 1870  | 4  | 2  |\n",
    "| 9  | 295  | 1935  | 4  | 2.5  |\n",
    "| 10  | 290  | 1948  | 4  | 2  |\n",
    "| 11  | 385  | 2254  | 4  | 3  |\n",
    "| 12  | 505  | 2600  | 3  | 2.5  |\n",
    "| 13  | 425  | 2800  | 4  | 3  |\n",
    "| 14  | 415  | 3000  | 4  | 3  |\n",
    "\n",
    "\n",
    "a) Hồi quy mẫu\n",
    "\n",
    "$$\n",
    "\\text{PRICE}_i = \\beta_0 + \\beta_1\\text{SQFT}_i + \\beta_2\\text{BEDRMS}_i + \\beta_3\\text{BATHS}_i + \\epsilon_i\n",
    "$$\n",
    "\n",
    "và giải thích ý nghĩa của các hệ số hồi quy?\n",
    "\n",
    "b) Tính ước lượng điểm giá PRICE trung bình khi SQFT tăng thêm 300 và BEDRMS tăng thêm 1\n",
    "\n",
    "c) Tính hệ số xác định và hệ số xác định điều chỉnh, giải thích ý nghĩa?\n",
    "\n",
    "d) Tìm khoảng tin cậy đối với $\\beta_1$, $\\beta_2$, và $\\beta_3$ với mức ý nghĩa 5%\n",
    "\n",
    "e) Phải chăng cả ba biến đều không ảnh hưởng đến giá PRICE?\n",
    "\n",
    "f) Dự báo giá trị trung bình và giá trị cá biệt về giá nhà trung bình khi SQRT = 2500, BDRMS = 3 và BATHS = 2?"
   ]
  },
  {
   "cell_type": "markdown",
   "metadata": {},
   "source": [
    "Đọc dữ liệu"
   ]
  },
  {
   "cell_type": "code",
   "execution_count": 2,
   "metadata": {},
   "outputs": [
    {
     "data": {
      "text/html": [
       "<div>\n",
       "<style scoped>\n",
       "    .dataframe tbody tr th:only-of-type {\n",
       "        vertical-align: middle;\n",
       "    }\n",
       "\n",
       "    .dataframe tbody tr th {\n",
       "        vertical-align: top;\n",
       "    }\n",
       "\n",
       "    .dataframe thead th {\n",
       "        text-align: right;\n",
       "    }\n",
       "</style>\n",
       "<table border=\"1\" class=\"dataframe\">\n",
       "  <thead>\n",
       "    <tr style=\"text-align: right;\">\n",
       "      <th></th>\n",
       "      <th>PRICE</th>\n",
       "      <th>SQFT</th>\n",
       "      <th>BEDRMS</th>\n",
       "      <th>BATHS</th>\n",
       "    </tr>\n",
       "  </thead>\n",
       "  <tbody>\n",
       "    <tr>\n",
       "      <th>0</th>\n",
       "      <td>199.9</td>\n",
       "      <td>1065</td>\n",
       "      <td>3</td>\n",
       "      <td>1.75</td>\n",
       "    </tr>\n",
       "    <tr>\n",
       "      <th>1</th>\n",
       "      <td>228.0</td>\n",
       "      <td>1254</td>\n",
       "      <td>3</td>\n",
       "      <td>2.00</td>\n",
       "    </tr>\n",
       "    <tr>\n",
       "      <th>2</th>\n",
       "      <td>235.0</td>\n",
       "      <td>1300</td>\n",
       "      <td>3</td>\n",
       "      <td>2.00</td>\n",
       "    </tr>\n",
       "    <tr>\n",
       "      <th>3</th>\n",
       "      <td>285.0</td>\n",
       "      <td>1577</td>\n",
       "      <td>4</td>\n",
       "      <td>2.50</td>\n",
       "    </tr>\n",
       "    <tr>\n",
       "      <th>4</th>\n",
       "      <td>239.0</td>\n",
       "      <td>1600</td>\n",
       "      <td>3</td>\n",
       "      <td>2.00</td>\n",
       "    </tr>\n",
       "    <tr>\n",
       "      <th>5</th>\n",
       "      <td>293.0</td>\n",
       "      <td>1750</td>\n",
       "      <td>4</td>\n",
       "      <td>2.00</td>\n",
       "    </tr>\n",
       "    <tr>\n",
       "      <th>6</th>\n",
       "      <td>285.0</td>\n",
       "      <td>1800</td>\n",
       "      <td>4</td>\n",
       "      <td>2.75</td>\n",
       "    </tr>\n",
       "    <tr>\n",
       "      <th>7</th>\n",
       "      <td>365.0</td>\n",
       "      <td>1870</td>\n",
       "      <td>4</td>\n",
       "      <td>2.00</td>\n",
       "    </tr>\n",
       "    <tr>\n",
       "      <th>8</th>\n",
       "      <td>295.0</td>\n",
       "      <td>1935</td>\n",
       "      <td>4</td>\n",
       "      <td>2.50</td>\n",
       "    </tr>\n",
       "    <tr>\n",
       "      <th>9</th>\n",
       "      <td>290.0</td>\n",
       "      <td>1948</td>\n",
       "      <td>4</td>\n",
       "      <td>2.00</td>\n",
       "    </tr>\n",
       "    <tr>\n",
       "      <th>10</th>\n",
       "      <td>385.0</td>\n",
       "      <td>2254</td>\n",
       "      <td>4</td>\n",
       "      <td>3.00</td>\n",
       "    </tr>\n",
       "    <tr>\n",
       "      <th>11</th>\n",
       "      <td>505.0</td>\n",
       "      <td>2600</td>\n",
       "      <td>3</td>\n",
       "      <td>2.50</td>\n",
       "    </tr>\n",
       "    <tr>\n",
       "      <th>12</th>\n",
       "      <td>425.0</td>\n",
       "      <td>2800</td>\n",
       "      <td>4</td>\n",
       "      <td>3.00</td>\n",
       "    </tr>\n",
       "    <tr>\n",
       "      <th>13</th>\n",
       "      <td>415.0</td>\n",
       "      <td>3000</td>\n",
       "      <td>4</td>\n",
       "      <td>3.00</td>\n",
       "    </tr>\n",
       "  </tbody>\n",
       "</table>\n",
       "</div>"
      ],
      "text/plain": [
       "    PRICE  SQFT  BEDRMS  BATHS\n",
       "0   199.9  1065       3   1.75\n",
       "1   228.0  1254       3   2.00\n",
       "2   235.0  1300       3   2.00\n",
       "3   285.0  1577       4   2.50\n",
       "4   239.0  1600       3   2.00\n",
       "5   293.0  1750       4   2.00\n",
       "6   285.0  1800       4   2.75\n",
       "7   365.0  1870       4   2.00\n",
       "8   295.0  1935       4   2.50\n",
       "9   290.0  1948       4   2.00\n",
       "10  385.0  2254       4   3.00\n",
       "11  505.0  2600       3   2.50\n",
       "12  425.0  2800       4   3.00\n",
       "13  415.0  3000       4   3.00"
      ]
     },
     "execution_count": 2,
     "metadata": {},
     "output_type": "execute_result"
    }
   ],
   "source": [
    "data = pd.read_csv('data.csv', ).reset_index().drop(['index', 'i'], axis=1)\n",
    "data"
   ]
  },
  {
   "cell_type": "markdown",
   "metadata": {},
   "source": [
    "Chuẩn bị dữ liệu"
   ]
  },
  {
   "cell_type": "code",
   "execution_count": 3,
   "metadata": {},
   "outputs": [
    {
     "data": {
      "text/plain": [
       "array([[1.000e+00, 1.065e+03, 3.000e+00, 1.750e+00],\n",
       "       [1.000e+00, 1.254e+03, 3.000e+00, 2.000e+00],\n",
       "       [1.000e+00, 1.300e+03, 3.000e+00, 2.000e+00],\n",
       "       [1.000e+00, 1.577e+03, 4.000e+00, 2.500e+00],\n",
       "       [1.000e+00, 1.600e+03, 3.000e+00, 2.000e+00],\n",
       "       [1.000e+00, 1.750e+03, 4.000e+00, 2.000e+00],\n",
       "       [1.000e+00, 1.800e+03, 4.000e+00, 2.750e+00],\n",
       "       [1.000e+00, 1.870e+03, 4.000e+00, 2.000e+00],\n",
       "       [1.000e+00, 1.935e+03, 4.000e+00, 2.500e+00],\n",
       "       [1.000e+00, 1.948e+03, 4.000e+00, 2.000e+00],\n",
       "       [1.000e+00, 2.254e+03, 4.000e+00, 3.000e+00],\n",
       "       [1.000e+00, 2.600e+03, 3.000e+00, 2.500e+00],\n",
       "       [1.000e+00, 2.800e+03, 4.000e+00, 3.000e+00],\n",
       "       [1.000e+00, 3.000e+03, 4.000e+00, 3.000e+00]])"
      ]
     },
     "execution_count": 3,
     "metadata": {},
     "output_type": "execute_result"
    }
   ],
   "source": [
    "X = data[['SQFT', 'BEDRMS', 'BATHS']].values\n",
    "X = np.hstack([np.ones((len(X),1)), X])\n",
    "X"
   ]
  },
  {
   "cell_type": "code",
   "execution_count": 4,
   "metadata": {},
   "outputs": [
    {
     "data": {
      "text/plain": [
       "array([199.9, 228. , 235. , 285. , 239. , 293. , 285. , 365. , 295. ,\n",
       "       290. , 385. , 505. , 425. , 415. ])"
      ]
     },
     "execution_count": 4,
     "metadata": {},
     "output_type": "execute_result"
    }
   ],
   "source": [
    "y = data['PRICE'].values\n",
    "y"
   ]
  },
  {
   "cell_type": "code",
   "execution_count": 5,
   "metadata": {},
   "outputs": [],
   "source": [
    "n = X.shape[0]\n",
    "bar_ysquare = np.mean(y) ** 2\n",
    "\n",
    "sum_y = np.sum(y)\n",
    "sum_ysquare = np.sum(y) ** 2\n",
    "\n",
    "sum_x1 = np.sum(data['SQFT'])\n",
    "sum_x1square = np.sum(data['SQFT']) ** 2\n",
    "\n",
    "sum_x2 = np.sum(data['BEDRMS'])\n",
    "sum_x2square = np.sum(data['BEDRMS']) ** 2\n",
    "\n",
    "sum_x2 = np.sum(data['BATHS'])\n",
    "sum_x2square = np.sum(data['BATHS']) ** 2\n",
    "\n",
    "sum_x1x2 = np.sum(data['SQFT'] * data['BEDRMS'])\n",
    "sum_x1x3 = np.sum(data['SQFT'] * data['BATHS'])\n",
    "sum_x2x3 = np.sum(data['BEDRMS'] * data['BATHS'])\n",
    "\n",
    "sum_yx1 = np.sum(data['PRICE'] * data['SQFT'])\n",
    "sum_yx2 = np.sum(data['PRICE'] * data['BEDRMS'])\n",
    "sum_yx3 = np.sum(data['PRICE'] * data['BATHS'])\n",
    "\n",
    "XTX = np.dot(X.T, X)\n",
    "XTY = np.dot(X.T, y)"
   ]
  },
  {
   "cell_type": "markdown",
   "metadata": {},
   "source": [
    "a) Hồi quy mẫu\n",
    "\n",
    "$$\n",
    "\\text{PRICE}_i = \\beta_0 + \\beta_1\\text{SQFT}_i + \\beta_2\\text{BEDRMS}_i + \\beta_3\\text{BATHS}_i + \\epsilon_i\n",
    "$$\n",
    "\n",
    "và giải thích ý nghĩa của các hệ số hồi quy?"
   ]
  },
  {
   "cell_type": "markdown",
   "metadata": {},
   "source": [
    "Trong mô hình hồi quy trên, PRICE là giá căn hộ tính theo nghìn dollars; SQFT thể hiện diện tích nhà; BEDRMS thể hiện số lượng phòng ngủ, và BATHS thể hiện số lượng nhà tắm.\n",
    "\n",
    "Vì những đặc trưng này đều là những đặc tính tốt về một căn nhà, **ta kỳ vọng rằng các hệ số $\\beta_1$, $\\beta_2$, và $\\beta_3$ có giá trị dương**."
   ]
  },
  {
   "cell_type": "markdown",
   "metadata": {},
   "source": [
    "Sử dụng công thức nghiệm hồi quy tuyến tính bằng phương pháp triển vọng cực đại, ta thu được giá trị của các hệ số trên công thức."
   ]
  },
  {
   "cell_type": "code",
   "execution_count": 6,
   "metadata": {},
   "outputs": [
    {
     "data": {
      "text/plain": [
       "array([129.06163452,   0.15479989, -21.58751918, -12.19275743])"
      ]
     },
     "execution_count": 6,
     "metadata": {},
     "output_type": "execute_result"
    }
   ],
   "source": [
    "beta_ml = np.linalg.inv(X.T @ X) @ X.T @ y\n",
    "beta_ml\n",
    "\n",
    "# beta0: bias, khi không có bất kì yếu tố nào thì mức giá nhà tối thiểu là 129.06163452\n",
    "# beta1: nếu diện tích nhà tăng 1 mét vuông thì giá nhà tăng 0.15479989\n",
    "# beta2: nếu số lượng phòng ngủ tăng 1 phòng thì giá nhà giảm 21.58751918\n",
    "# beta3: nếu số lượng nhà tắm tăng lên 1 thì giá nhà giảm 12.19275743\n",
    "# Nếu cả diện tích nhà, phòng ngủ và số nhà tăm tăng như nào, thì giá căn hộ giảm \n",
    "# (0.15479989 - 21.58751918 - 12.19275743)"
   ]
  },
  {
   "cell_type": "markdown",
   "metadata": {},
   "source": [
    "Kết quả cho thấy dấu đi kèm với hệ số BEDRMS và BATHS là không giống với kỳ vọng, chúng có giá trị âm. "
   ]
  },
  {
   "cell_type": "markdown",
   "metadata": {},
   "source": [
    "Ta tính toán giá trị phần dư độ lỗi"
   ]
  },
  {
   "cell_type": "code",
   "execution_count": 7,
   "metadata": {},
   "outputs": [
    {
     "data": {
      "text/plain": [
       "array([ -7.92363962,  -6.03263041,  -6.15342558,  28.65090141,\n",
       "       -48.59339407,   3.77414086,  -2.82128581,  57.19815347,\n",
       "       -16.76746099, -29.87623834,  29.94775123,  68.70308968,\n",
       "       -14.57299142, -55.53297041])"
      ]
     },
     "execution_count": 7,
     "metadata": {},
     "output_type": "execute_result"
    }
   ],
   "source": [
    "epsilon = y - X @ beta_ml\n",
    "epsilon"
   ]
  },
  {
   "cell_type": "markdown",
   "metadata": {},
   "source": [
    "Một số kết luận:\n",
    "- Thông thường, tăng thêm số lượng phòng ngủ hoặc nhà tắm thì giá trị căn nhà phải tăng lên. Nhưng ở đây, không thể hiện như vậy, điều đó là giá trị căn nhà giảm xuống. Liệu đây có phải một điều bất hợp lý hay không?"
   ]
  },
  {
   "cell_type": "markdown",
   "metadata": {},
   "source": [
    "Xem xét giá trị riêng phần của từng biến lên giá của căn nhà. Bằng cách giữ nguyên diện tích sử dụng và số lượng phòng tắm. Kết quả trên cho ta thấy một điều rằng nếu tăng thêm một phòng ngủ, thì trung bình giá căn nhà giảm 21.58751918. \n",
    "\n",
    "Có thể nếu tăng thêm phòng ngủ, thì diện tích từng phòng sẽ nhỏ đi, điều này làm cho khách hàng không vừa lòng."
   ]
  },
  {
   "cell_type": "code",
   "execution_count": 8,
   "metadata": {},
   "outputs": [],
   "source": [
    "# Tính toán các thứ\n",
    "TSS = np.sum(data['PRICE']**2) - X.shape[0] * np.mean(data['PRICE'])**2\n",
    "ESS = beta_ml.T @ (X.T @ y) - X.shape[0] * np.mean(y) ** 2\n",
    "RSS = TSS - ESS"
   ]
  },
  {
   "cell_type": "code",
   "execution_count": 9,
   "metadata": {},
   "outputs": [],
   "source": [
    "# Phương sai\n",
    "sigma_square = RSS / (n - 1)\n",
    "\n",
    "# Hiệp phương sai\n",
    "cov_beta = (sigma_square * np.linalg.inv(X.T @ X)).diagonal()\n",
    "\n",
    "se_beta1 = np.sqrt(cov_beta[1])\n",
    "se_beta2 = np.sqrt(cov_beta[2])\n",
    "se_beta3 = np.sqrt(cov_beta[3])\n",
    "\n",
    "varY0 = sigma_square * X[0].T @ np.linalg.inv(X.T @ X) @ X[0]\n",
    "seY0 = np.sqrt(varY0)\n",
    "\n",
    "varY0_hatY0 = varY0 + sigma_square\n",
    "seY0_hatY0 = np.sqrt(varY0_hatY0)"
   ]
  },
  {
   "cell_type": "markdown",
   "metadata": {},
   "source": [
    "b) Tính ước lượng điểm giá PRICE trung bình khi SQFT tăng thêm 300 và BEDRMS tăng thêm 1"
   ]
  },
  {
   "cell_type": "markdown",
   "metadata": {},
   "source": [
    "Ta tính sự thay đổi của giá nhà nếu khi SQFT tăng thêm 300 và BEDRMS tăng thêm 1"
   ]
  },
  {
   "cell_type": "code",
   "execution_count": 10,
   "metadata": {},
   "outputs": [
    {
     "data": {
      "text/plain": [
       "24.852447819999995"
      ]
     },
     "execution_count": 10,
     "metadata": {},
     "output_type": "execute_result"
    }
   ],
   "source": [
    "delta_price = 0.15479989 * 300 - 21.58751918 * 1\n",
    "delta_price"
   ]
  },
  {
   "cell_type": "markdown",
   "metadata": {},
   "source": [
    "Về trung bình, giá căn hộ sẽ tăng 24.852447819999995 dollars."
   ]
  },
  {
   "cell_type": "markdown",
   "metadata": {},
   "source": [
    "Xử lý dữ liệu"
   ]
  },
  {
   "cell_type": "code",
   "execution_count": 11,
   "metadata": {},
   "outputs": [
    {
     "data": {
      "text/plain": [
       "array([[1.000e+00, 1.365e+03, 4.000e+00, 1.750e+00],\n",
       "       [1.000e+00, 1.554e+03, 4.000e+00, 2.000e+00],\n",
       "       [1.000e+00, 1.600e+03, 4.000e+00, 2.000e+00],\n",
       "       [1.000e+00, 1.877e+03, 5.000e+00, 2.500e+00],\n",
       "       [1.000e+00, 1.900e+03, 4.000e+00, 2.000e+00],\n",
       "       [1.000e+00, 2.050e+03, 5.000e+00, 2.000e+00],\n",
       "       [1.000e+00, 2.100e+03, 5.000e+00, 2.750e+00],\n",
       "       [1.000e+00, 2.170e+03, 5.000e+00, 2.000e+00],\n",
       "       [1.000e+00, 2.235e+03, 5.000e+00, 2.500e+00],\n",
       "       [1.000e+00, 2.248e+03, 5.000e+00, 2.000e+00],\n",
       "       [1.000e+00, 2.554e+03, 5.000e+00, 3.000e+00],\n",
       "       [1.000e+00, 2.900e+03, 4.000e+00, 2.500e+00],\n",
       "       [1.000e+00, 3.100e+03, 5.000e+00, 3.000e+00],\n",
       "       [1.000e+00, 3.300e+03, 5.000e+00, 3.000e+00]])"
      ]
     },
     "execution_count": 11,
     "metadata": {},
     "output_type": "execute_result"
    }
   ],
   "source": [
    "Adj_X = np.array([data['SQFT'] + 300, data['BEDRMS'] + 1, data['BATHS']]).T\n",
    "Adj_X = np.hstack([np.ones((len(Adj_X ),1)), Adj_X])\n",
    "Adj_X"
   ]
  },
  {
   "cell_type": "markdown",
   "metadata": {},
   "source": [
    "Tính toán lại mô hình hồi quy"
   ]
  },
  {
   "cell_type": "code",
   "execution_count": 12,
   "metadata": {},
   "outputs": [
    {
     "data": {
      "text/plain": [
       "array([129.06163452,   0.15479989, -21.58751918, -12.19275743])"
      ]
     },
     "execution_count": 12,
     "metadata": {},
     "output_type": "execute_result"
    }
   ],
   "source": [
    "adj_beta_ml = np.linalg.inv(X.T @ X) @ X.T @ y\n",
    "adj_beta_ml"
   ]
  },
  {
   "cell_type": "markdown",
   "metadata": {},
   "source": [
    "Đưa ra kết quả dự đoán"
   ]
  },
  {
   "cell_type": "code",
   "execution_count": 13,
   "metadata": {},
   "outputs": [
    {
     "data": {
      "text/html": [
       "<div>\n",
       "<style scoped>\n",
       "    .dataframe tbody tr th:only-of-type {\n",
       "        vertical-align: middle;\n",
       "    }\n",
       "\n",
       "    .dataframe tbody tr th {\n",
       "        vertical-align: top;\n",
       "    }\n",
       "\n",
       "    .dataframe thead th {\n",
       "        text-align: right;\n",
       "    }\n",
       "</style>\n",
       "<table border=\"1\" class=\"dataframe\">\n",
       "  <thead>\n",
       "    <tr style=\"text-align: right;\">\n",
       "      <th></th>\n",
       "      <th>Pred_PRICE</th>\n",
       "      <th>Actual</th>\n",
       "    </tr>\n",
       "  </thead>\n",
       "  <tbody>\n",
       "    <tr>\n",
       "      <th>0</th>\n",
       "      <td>232.676089</td>\n",
       "      <td>199.9</td>\n",
       "    </tr>\n",
       "    <tr>\n",
       "      <th>1</th>\n",
       "      <td>258.885080</td>\n",
       "      <td>228.0</td>\n",
       "    </tr>\n",
       "    <tr>\n",
       "      <th>2</th>\n",
       "      <td>266.005875</td>\n",
       "      <td>235.0</td>\n",
       "    </tr>\n",
       "    <tr>\n",
       "      <th>3</th>\n",
       "      <td>281.201548</td>\n",
       "      <td>285.0</td>\n",
       "    </tr>\n",
       "    <tr>\n",
       "      <th>4</th>\n",
       "      <td>312.445843</td>\n",
       "      <td>239.0</td>\n",
       "    </tr>\n",
       "    <tr>\n",
       "      <th>5</th>\n",
       "      <td>314.078308</td>\n",
       "      <td>293.0</td>\n",
       "    </tr>\n",
       "    <tr>\n",
       "      <th>6</th>\n",
       "      <td>312.673735</td>\n",
       "      <td>285.0</td>\n",
       "    </tr>\n",
       "    <tr>\n",
       "      <th>7</th>\n",
       "      <td>332.654296</td>\n",
       "      <td>365.0</td>\n",
       "    </tr>\n",
       "    <tr>\n",
       "      <th>8</th>\n",
       "      <td>336.619910</td>\n",
       "      <td>295.0</td>\n",
       "    </tr>\n",
       "    <tr>\n",
       "      <th>9</th>\n",
       "      <td>344.728688</td>\n",
       "      <td>290.0</td>\n",
       "    </tr>\n",
       "    <tr>\n",
       "      <th>10</th>\n",
       "      <td>379.904698</td>\n",
       "      <td>385.0</td>\n",
       "    </tr>\n",
       "    <tr>\n",
       "      <th>11</th>\n",
       "      <td>461.149360</td>\n",
       "      <td>505.0</td>\n",
       "    </tr>\n",
       "    <tr>\n",
       "      <th>12</th>\n",
       "      <td>464.425441</td>\n",
       "      <td>425.0</td>\n",
       "    </tr>\n",
       "    <tr>\n",
       "      <th>13</th>\n",
       "      <td>495.385420</td>\n",
       "      <td>415.0</td>\n",
       "    </tr>\n",
       "  </tbody>\n",
       "</table>\n",
       "</div>"
      ],
      "text/plain": [
       "    Pred_PRICE  Actual\n",
       "0   232.676089   199.9\n",
       "1   258.885080   228.0\n",
       "2   266.005875   235.0\n",
       "3   281.201548   285.0\n",
       "4   312.445843   239.0\n",
       "5   314.078308   293.0\n",
       "6   312.673735   285.0\n",
       "7   332.654296   365.0\n",
       "8   336.619910   295.0\n",
       "9   344.728688   290.0\n",
       "10  379.904698   385.0\n",
       "11  461.149360   505.0\n",
       "12  464.425441   425.0\n",
       "13  495.385420   415.0"
      ]
     },
     "execution_count": 13,
     "metadata": {},
     "output_type": "execute_result"
    }
   ],
   "source": [
    "pred_price = Adj_X @ adj_beta_ml\n",
    "df = pd.DataFrame({'Pred_PRICE': pred_price, 'Actual': y})\n",
    "df"
   ]
  },
  {
   "cell_type": "markdown",
   "metadata": {},
   "source": [
    "c) Tính hệ số xác định và hệ số xác định điều chỉnh, giải thích ý nghĩa?"
   ]
  },
  {
   "cell_type": "code",
   "execution_count": 14,
   "metadata": {
    "scrolled": true
   },
   "outputs": [
    {
     "data": {
      "text/plain": [
       "0.8359763585708145"
      ]
     },
     "execution_count": 14,
     "metadata": {},
     "output_type": "execute_result"
    }
   ],
   "source": [
    "# Hệ số xác định R^2\n",
    "# sự biến thiên của giá nhà từ SQFT, BEDRMS, BATHS, giải thích được 83%\n",
    "R2 = ESS / TSS\n",
    "R2"
   ]
  },
  {
   "cell_type": "code",
   "execution_count": 15,
   "metadata": {},
   "outputs": [
    {
     "data": {
      "text/plain": [
       "0.7630769623800654"
      ]
     },
     "execution_count": 15,
     "metadata": {},
     "output_type": "execute_result"
    }
   ],
   "source": [
    "# Hệ số xác định điều chỉnh adjusted-R^2\n",
    "adjustedR2 = 1 - (1 - R2) * (len(y) - 1) / (len(y) - X.shape[1] - 1)\n",
    "adjustedR2"
   ]
  },
  {
   "cell_type": "markdown",
   "metadata": {},
   "source": [
    "d) Tìm khoảng tin cậy đối với $\\beta_1$, $\\beta_2$, và $\\beta_3$ với mức ý nghĩa 5%"
   ]
  },
  {
   "cell_type": "code",
   "execution_count": 16,
   "metadata": {},
   "outputs": [
    {
     "name": "stdout",
     "output_type": "stream",
     "text": [
      "Coefficients of the linear model: beta_1 = 0.1547998949655238, beta_2 = -21.587519177015714, beta_3 = -12.192757432630032\n"
     ]
    }
   ],
   "source": [
    "# Các hệ số của mô hình hồi quy tuyến tính, beta1, beta2, và beta3\n",
    "beta1 = beta_ml[1]\n",
    "beta2 = beta_ml[2]\n",
    "beta3 = beta_ml[3]\n",
    "\n",
    "print(\"Coefficients of the linear model: beta_1 = {}, beta_2 = {}, beta_3 = {}\".format(beta1, beta2, beta3))"
   ]
  },
  {
   "cell_type": "code",
   "execution_count": 17,
   "metadata": {},
   "outputs": [
    {
     "data": {
      "text/plain": [
       "array([207.82363962, 234.03263041, 241.15342558, 256.34909859,\n",
       "       287.59339407, 289.22585914, 287.82128581, 307.80184653,\n",
       "       311.76746099, 319.87623834, 355.05224877, 436.29691032,\n",
       "       439.57299142, 470.53297041])"
      ]
     },
     "execution_count": 17,
     "metadata": {},
     "output_type": "execute_result"
    }
   ],
   "source": [
    "# Tính toán các giá trị khớp của y\n",
    "pred_y = X @ beta_ml\n",
    "pred_y"
   ]
  },
  {
   "cell_type": "code",
   "execution_count": 18,
   "metadata": {},
   "outputs": [
    {
     "data": {
      "text/plain": [
       "1192.862041082679"
      ]
     },
     "execution_count": 18,
     "metadata": {},
     "output_type": "execute_result"
    }
   ],
   "source": [
    "# Tính MSE\n",
    "mse = np.mean((y-pred_y)**2)\n",
    "mse"
   ]
  },
  {
   "cell_type": "code",
   "execution_count": 19,
   "metadata": {},
   "outputs": [
    {
     "data": {
      "text/plain": [
       "array([1.78228756])"
      ]
     },
     "execution_count": 19,
     "metadata": {},
     "output_type": "execute_result"
    }
   ],
   "source": [
    "# Giả định các hệ số của mô hình hồi quy thuộc phân phối t\n",
    "# Tính t-statistics với độ tin cậy 95%, tức sử dụng mức ý nghĩa 5%\n",
    "t_val = np.array([stats.t.ppf(0.95, X.shape[0] - 2)])\n",
    "t_val"
   ]
  },
  {
   "cell_type": "code",
   "execution_count": 20,
   "metadata": {},
   "outputs": [
    {
     "name": "stdout",
     "output_type": "stream",
     "text": [
      "Upper bound beta_1 at 95% confidence:  [0.16423242]\n",
      "Estimation for beta_1:  0.1547998949655238\n",
      "Lower bound beta_1 at 95% confidence:  [0.14536737]\n"
     ]
    }
   ],
   "source": [
    "# Giới hạn chặn trên và chặn dưới cho hệ số hồi quy của X ở độ tin cậy 95%\n",
    "beta1_upper = beta1 + t_val * np.sqrt(mse) / np.sqrt(np.sum((X - np.mean(X))**2))\n",
    "beta1_lower = beta1 - t_val * np.sqrt(mse) / np.sqrt(np.sum((X - np.mean(X))**2))\n",
    "print(\"Upper bound beta_1 at 95% confidence: \", beta1_upper)\n",
    "print(\"Estimation for beta_1: \", beta1)\n",
    "print(\"Lower bound beta_1 at 95% confidence: \", beta1_lower)"
   ]
  },
  {
   "cell_type": "code",
   "execution_count": 21,
   "metadata": {},
   "outputs": [
    {
     "name": "stdout",
     "output_type": "stream",
     "text": [
      "Upper bound beta_1 at 95% confidence:  [-21.57808665]\n",
      "Estimation for beta_1:  -21.587519177015714\n",
      "Lower bound beta_1 at 95% confidence:  [-21.59695171]\n"
     ]
    }
   ],
   "source": [
    "# Giới hạn chặn trên và chặn dưới cho hệ số hồi quy của X ở độ tin cậy 95%\n",
    "beta2_upper = beta2 + t_val * np.sqrt(mse) / np.sqrt(np.sum((X - np.mean(X))**2))\n",
    "beta2_lower = beta2 - t_val * np.sqrt(mse) / np.sqrt(np.sum((X - np.mean(X))**2))\n",
    "print(\"Upper bound beta_1 at 95% confidence: \", beta2_upper)\n",
    "print(\"Estimation for beta_1: \", beta2)\n",
    "print(\"Lower bound beta_1 at 95% confidence: \", beta2_lower)"
   ]
  },
  {
   "cell_type": "code",
   "execution_count": 22,
   "metadata": {},
   "outputs": [
    {
     "name": "stdout",
     "output_type": "stream",
     "text": [
      "Upper bound beta_1 at 95% confidence:  [-12.1833249]\n",
      "Estimation for beta_1:  -12.192757432630032\n",
      "Lower bound beta_1 at 95% confidence:  [-12.20218996]\n"
     ]
    }
   ],
   "source": [
    "# Giới hạn chặn trên và chặn dưới cho hệ số hồi quy của X ở độ tin cậy 95%\n",
    "beta3_upper = beta3 + t_val * np.sqrt(mse) / np.sqrt(np.sum((X - np.mean(X))**2))\n",
    "beta3_lower = beta3 - t_val * np.sqrt(mse) / np.sqrt(np.sum((X - np.mean(X))**2))\n",
    "print(\"Upper bound beta_1 at 95% confidence: \", beta3_upper)\n",
    "print(\"Estimation for beta_1: \", beta3)\n",
    "print(\"Lower bound beta_1 at 95% confidence: \", beta3_lower)"
   ]
  },
  {
   "cell_type": "markdown",
   "metadata": {},
   "source": [
    "e) Phải chăng cả ba biến đều không ảnh hưởng đến giá PRICE?"
   ]
  },
  {
   "cell_type": "markdown",
   "metadata": {},
   "source": [
    "Tiến hành kiểm định giả thiết thống kê.\n",
    "\n",
    "Giả định các hệ số hồi quy thuộc phân phối t. Ta sử dụng t-test\n",
    "\n",
    "- Không có quan hệ: Không tồn tại quan hệ giữa biến phụ thuộc $y$ và biến độc lập $x_i$. Trong tình huống này, hệ số hồi quy $\\beta_i$ bằng không. Điều này cho ta giả thiết rỗng/ không (null hypothesis) trong kiểm định hệ số hồi quy:\n",
    "\n",
    "$$\n",
    "H_0: \\beta_i = 0\n",
    "$$\n",
    "\n",
    "- Có tồn tại quan hệ: Có tồn tại quan hệ giữa biến phụ thuộc $y$ và biến độc lập $x_i$. Trong tình huống này, hệ số hồi quy $\\beta_i$ không bằng không. Điều này cho ta giả thiết thay thế (alternative hypothesis) trong kiểm định hệ số hồi quy:\n",
    "\n",
    "$$\n",
    "H_1: \\beta_i \\ne 0\n",
    "$$"
   ]
  },
  {
   "cell_type": "code",
   "execution_count": 23,
   "metadata": {},
   "outputs": [
    {
     "data": {
      "text/plain": [
       "1192.862041082679"
      ]
     },
     "execution_count": 23,
     "metadata": {},
     "output_type": "execute_result"
    }
   ],
   "source": [
    "# Tính MSE\n",
    "mse = np.mean((y-pred_y)**2)\n",
    "mse"
   ]
  },
  {
   "cell_type": "code",
   "execution_count": 24,
   "metadata": {},
   "outputs": [
    {
     "data": {
      "text/plain": [
       "array([5.56961877e+03, 7.28708672e-04, 5.21846127e+02, 1.33611611e+03])"
      ]
     },
     "execution_count": 24,
     "metadata": {},
     "output_type": "execute_result"
    }
   ],
   "source": [
    "# Tính phương sai độ lỗi\n",
    "var_err = mse*(np.linalg.inv(np.dot(X.T, X)).diagonal())\n",
    "var_err"
   ]
  },
  {
   "cell_type": "code",
   "execution_count": 25,
   "metadata": {},
   "outputs": [
    {
     "data": {
      "text/plain": [
       "array([7.46298786e+01, 2.69946045e-02, 2.28439516e+01, 3.65529221e+01])"
      ]
     },
     "execution_count": 25,
     "metadata": {},
     "output_type": "execute_result"
    }
   ],
   "source": [
    "# Tính độ lệch chuẩn độ lỗi\n",
    "std_err = np.sqrt(var_err)\n",
    "std_err"
   ]
  },
  {
   "cell_type": "code",
   "execution_count": 26,
   "metadata": {},
   "outputs": [
    {
     "data": {
      "text/plain": [
       "array([ 1.72935608,  5.73447538, -0.94499934, -0.33356451])"
      ]
     },
     "execution_count": 26,
     "metadata": {},
     "output_type": "execute_result"
    }
   ],
   "source": [
    "# Tính t-values cho các hệ số\n",
    "t_vals = beta_ml / std_err\n",
    "t_vals"
   ]
  },
  {
   "cell_type": "code",
   "execution_count": 27,
   "metadata": {},
   "outputs": [
    {
     "data": {
      "text/plain": [
       "[0.11443375755441898,\n",
       " 0.00018914452638507662,\n",
       " 0.3669320942930625,\n",
       " 0.7455970504342839]"
      ]
     },
     "execution_count": 27,
     "metadata": {},
     "output_type": "execute_result"
    }
   ],
   "source": [
    "# Tính p-valus\n",
    "p_values =[2*(1-stats.t.cdf(np.abs(i),(len(X)-len(X[0])))) for i in t_vals]\n",
    "p_values"
   ]
  },
  {
   "cell_type": "code",
   "execution_count": 28,
   "metadata": {},
   "outputs": [
    {
     "name": "stdout",
     "output_type": "stream",
     "text": [
      "The regression coefficient beta_0 of X is not statistically significant.\n",
      "The regression coefficient beta_1 of X is statistically significant.\n",
      "The regression coefficient beta_2 of X is not statistically significant.\n",
      "The regression coefficient beta_3 of X is not statistically significant.\n"
     ]
    }
   ],
   "source": [
    "# So sánh p-value với mức ý nghĩa\n",
    "for idx, p_value in enumerate(p_values):\n",
    "    if p_value > 0.02:\n",
    "        print('The regression coefficient beta_{} of X is not statistically significant.'.format(idx))\n",
    "    else:\n",
    "        print('The regression coefficient beta_{} of X is statistically significant.'.format(idx))"
   ]
  },
  {
   "cell_type": "markdown",
   "metadata": {},
   "source": [
    "f) Dự báo giá trị trung bình và giá trị cá biệt về giá nhà trung bình khi SQRT = 2500, BDRMS = 3 và BATHS = 2?"
   ]
  },
  {
   "cell_type": "code",
   "execution_count": 29,
   "metadata": {},
   "outputs": [
    {
     "name": "stdout",
     "output_type": "stream",
     "text": [
      "Lower bound mean y0_hat at 95% confidence:  393.4463570775016\n",
      "Upper bound mean y0_hat at 95% confidence:  460.38024199750294\n",
      "------------------\n",
      "Upper bound individual y0_hat at 95% confidence:  499.0291550807673\n",
      "Lower bound individual y0_hat at 95% confidence:  354.79744399423726\n",
      "------------------\n"
     ]
    }
   ],
   "source": [
    "SQRT = 2500\n",
    "BDRMS = 3\n",
    "BATHS = 2\n",
    "\n",
    "# Tính giá trị dự đoán\n",
    "y0_hat = 129.06163452 + beta1 * SQRT + beta2 * BDRMS + beta3 * BATHS\n",
    "\n",
    "# t-value với mức ý nghĩa 5%\n",
    "t_val = stats.t.ppf(0.95, X.shape[0] - 2)\n",
    "\n",
    "\n",
    "# Khoảng dự báo cho giá trị trung bình E(Y/ SQRT = 2500, BDRMS = 3, BATHS = 2)\n",
    "# y0_hat - t_val * SE(\\hat{y_0}) <= E(Y/ SQRT = 2500, BDRMS = 3, BATHS = 2) <= y0_hat + t_val * SE(\\hat{y_0})\n",
    "mean_y0_hat_upper = y0_hat + t_val * seY0\n",
    "mean_y0_hat_lower = y0_hat - t_val * seY0\n",
    "\n",
    "print(\"Lower bound mean y0_hat at 95% confidence: \", mean_y0_hat_lower)\n",
    "print(\"Upper bound mean y0_hat at 95% confidence: \", mean_y0_hat_upper)\n",
    "print(\"------------------\")\n",
    "\n",
    "# Khoảng dự báo cho giá trị cá biệt Y0\n",
    "individual_y0hat_upper = y0_hat + t_val * seY0_hatY0\n",
    "individual_y0hat_lower = y0_hat - t_val * seY0_hatY0\n",
    "\n",
    "print(\"Upper bound individual y0_hat at 95% confidence: \", individual_y0hat_upper)\n",
    "print(\"Lower bound individual y0_hat at 95% confidence: \", individual_y0hat_lower)\n",
    "print(\"------------------\")"
   ]
  }
 ],
 "metadata": {
  "kernelspec": {
   "display_name": "Python 3 (ipykernel)",
   "language": "python",
   "name": "python3"
  },
  "language_info": {
   "codemirror_mode": {
    "name": "ipython",
    "version": 3
   },
   "file_extension": ".py",
   "mimetype": "text/x-python",
   "name": "python",
   "nbconvert_exporter": "python",
   "pygments_lexer": "ipython3",
   "version": "3.9.13"
  }
 },
 "nbformat": 4,
 "nbformat_minor": 2
}
